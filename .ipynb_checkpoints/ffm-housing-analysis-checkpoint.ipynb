{
 "cells": [
  {
   "cell_type": "markdown",
   "metadata": {},
   "source": [
    "<font size=\"9\"><br/>Data Set Generation</font>"
   ]
  },
  {
   "cell_type": "code",
   "execution_count": 2,
   "metadata": {},
   "outputs": [],
   "source": [
    "from bs4 import BeautifulSoup\n",
    "import requests\n",
    "import re\n",
    "import csv\n",
    "import pandas as pd\n",
    "\n",
    "#f = csv.writer(open('ffm-area-rents', 'w'))\n",
    "#f.writerow(['total_rent','living_space','nr_of_rooms','building_type','age_of_building','zip_code','region','street'])\n",
    "\n",
    "def scrape():\n",
    "    WEBSITE = 'https://www.immobilienscout24.de'\n",
    "    LAST_PAGE = 223\n",
    "    pages = []\n",
    "    listings = []\n",
    "\n",
    "    # get links to all pages of the search results for rented flats in the Frankfurt area\n",
    "    for i in range(1, LAST_PAGE + 1):\n",
    "        pages.append(\"https://www.immobilienscout24.de/Suche/S-T/P-%d/Wohnung-Miete/Polygonsuche/c3ducEhxaGtyQH5jakBpZ2BAeW9NfXloQG1pUm91UHd9R214YEBraF5yeEpzekVyd2dAdHhDYmRmQHZrTGRvXA..\" % (i))\n",
    "   \n",
    "        #get each link in the listing\n",
    "        for item in pages:\n",
    "            page = requests.get(item)\n",
    "            soup = BeautifulSoup(page.text, \"html.parser\")\n",
    "            for link in soup.find_all(\"a\"):\n",
    "                if r\"/expose/\" in str(link.get(\"href\")):\n",
    "                    route = link.get(\"href\")\n",
    "                    #extract data from each listing and write it to a csv file\n",
    "                    getDataFromListing(WEBSITE + route)\n",
    "                    \n",
    "                     \n",
    "                    \n",
    "def getDataFromListing(link):\n",
    "    page = requests.get(link)\n",
    "    soup = BeautifulSoup(page.text, 'html.parser')\n",
    "\n",
    "    try:\n",
    "        total_rent = re.sub('[^\\d,]+', '', soup.find(class_='is24qa-gesamtmiete').text.strip()).split(\",\")[0]\n",
    "    except:\n",
    "        total_rent = ''\n",
    "    \n",
    "    try:\n",
    "        living_space = re.sub('[^\\d,]+', '', soup.find(class_='is24qa-wohnflaeche-ca').text.strip()).split(\",\")[0]\n",
    "    except:\n",
    "        living_space = ''\n",
    "    \n",
    "    try:\n",
    "        nr_of_rooms = soup.find(class_='is24qa-zimmer').text.strip()\n",
    "    except:\n",
    "        nr_of_rooms = ''\n",
    "    \n",
    "    try:\n",
    "        building_type = soup.find(class_='is24qa-typ').text.strip()\n",
    "    except:\n",
    "        building_type = ''\n",
    "    \n",
    "    try:\n",
    "        age_of_building = 2019 - int(soup.find(class_='is24qa-baujahr').text.strip())\n",
    "    except:\n",
    "        age_of_building = ''\n",
    "    \n",
    "    try:\n",
    "        zip_and_region = soup.find(class_='zip-region-and-country').text.strip()\n",
    "        zip_code = re.sub('[^\\d]+', '', zip_and_region).strip()\n",
    "        region = re.sub('[\\d]+', '', zip_and_region).strip()\n",
    "    except:\n",
    "        zip_code = ''\n",
    "        region = ''\n",
    "    \n",
    "    try:\n",
    "        street = soup.find(class_='block font-nowrap print-hide').text.strip()[:-1]\n",
    "    except:\n",
    "        street = ''\n",
    "    print(street)\n",
    "    \n",
    "    #f.writerow([total_rent,living_space, nr_of_rooms, building_type, age_of_building, zip_code, region, street])\n",
    "\n",
    "\n",
    "#scrape()"
   ]
  },
  {
   "cell_type": "code",
   "execution_count": null,
   "metadata": {},
   "outputs": [],
   "source": [
    "# add longitude and latitude values\n",
    "from time import sleep\n",
    "\n",
    "latitude = []\n",
    "longitude = []\n",
    "\n",
    "dataset = pd.read_csv('datasets/ffm-area-rents', nrows=2400)\n",
    "\n",
    "for index, row in dataset.iterrows():\n",
    "    query = str(row['street']) + ', ' + str(row['zip_code']) + ', ' + str(row['region'])\n",
    "    data = requests.get(url='https://api.opencagedata.com/geocode/v1/json', \n",
    "                        params={'q': query, 'key':'c3d62d04a89545a2b0b4857c5c033a6c', 'language':'de', 'pretty': 1}).json()\n",
    "    try:\n",
    "        lat = data['results'][0]['geometry']['lat']\n",
    "        lng = data['results'][0]['geometry']['lng']\n",
    "    except:\n",
    "        lat = ''\n",
    "        lng = ''\n",
    "    latitude.append(lat)\n",
    "    longitude.append(lng)\n",
    "    print(index, lat, lng)  \n",
    "    sleep(1)\n",
    "    \n",
    "\n",
    "dataset['latitude'] = latitude\n",
    "dataset['longitude'] = longitude\n",
    "dataset.to_csv('new_data.csv')"
   ]
  },
  {
   "cell_type": "markdown",
   "metadata": {},
   "source": [
    "<font size=\"9\"><br/>Data Exploration</font>"
   ]
  },
  {
   "cell_type": "code",
   "execution_count": 3,
   "metadata": {},
   "outputs": [
    {
     "data": {
      "text/html": [
       "<div>\n",
       "<style scoped>\n",
       "    .dataframe tbody tr th:only-of-type {\n",
       "        vertical-align: middle;\n",
       "    }\n",
       "\n",
       "    .dataframe tbody tr th {\n",
       "        vertical-align: top;\n",
       "    }\n",
       "\n",
       "    .dataframe thead th {\n",
       "        text-align: right;\n",
       "    }\n",
       "</style>\n",
       "<table border=\"1\" class=\"dataframe\">\n",
       "  <thead>\n",
       "    <tr style=\"text-align: right;\">\n",
       "      <th></th>\n",
       "      <th>total_rent</th>\n",
       "      <th>living_space</th>\n",
       "      <th>nr_of_rooms</th>\n",
       "      <th>building_type</th>\n",
       "      <th>age_of_building</th>\n",
       "      <th>zip_code</th>\n",
       "      <th>region</th>\n",
       "      <th>street</th>\n",
       "      <th>latitude</th>\n",
       "      <th>longitude</th>\n",
       "    </tr>\n",
       "  </thead>\n",
       "  <tbody>\n",
       "    <tr>\n",
       "      <th>0</th>\n",
       "      <td>2700</td>\n",
       "      <td>120</td>\n",
       "      <td>2.0</td>\n",
       "      <td>Dachgeschoss</td>\n",
       "      <td>NaN</td>\n",
       "      <td>60323</td>\n",
       "      <td>Frankfurt, Bockenheim</td>\n",
       "      <td>NaN</td>\n",
       "      <td>50.122361</td>\n",
       "      <td>8.637532</td>\n",
       "    </tr>\n",
       "    <tr>\n",
       "      <th>1</th>\n",
       "      <td>2700</td>\n",
       "      <td>120</td>\n",
       "      <td>2.0</td>\n",
       "      <td>Dachgeschoss</td>\n",
       "      <td>NaN</td>\n",
       "      <td>60323</td>\n",
       "      <td>Frankfurt, Bockenheim</td>\n",
       "      <td>NaN</td>\n",
       "      <td>50.122361</td>\n",
       "      <td>8.637532</td>\n",
       "    </tr>\n",
       "    <tr>\n",
       "      <th>2</th>\n",
       "      <td>2700</td>\n",
       "      <td>120</td>\n",
       "      <td>2.0</td>\n",
       "      <td>Dachgeschoss</td>\n",
       "      <td>NaN</td>\n",
       "      <td>60323</td>\n",
       "      <td>Frankfurt, Bockenheim</td>\n",
       "      <td>NaN</td>\n",
       "      <td>50.122361</td>\n",
       "      <td>8.637532</td>\n",
       "    </tr>\n",
       "    <tr>\n",
       "      <th>3</th>\n",
       "      <td>790</td>\n",
       "      <td>27</td>\n",
       "      <td>1.0</td>\n",
       "      <td>Etagenwohnung</td>\n",
       "      <td>27.0</td>\n",
       "      <td>60439</td>\n",
       "      <td>Frankfurt am Main, Heddernheim</td>\n",
       "      <td>Olof-Palme-Straße 31</td>\n",
       "      <td>50.172883</td>\n",
       "      <td>8.641283</td>\n",
       "    </tr>\n",
       "    <tr>\n",
       "      <th>4</th>\n",
       "      <td>790</td>\n",
       "      <td>27</td>\n",
       "      <td>1.0</td>\n",
       "      <td>Etagenwohnung</td>\n",
       "      <td>27.0</td>\n",
       "      <td>60439</td>\n",
       "      <td>Frankfurt am Main, Heddernheim</td>\n",
       "      <td>Olof-Palme-Straße 31</td>\n",
       "      <td>50.172883</td>\n",
       "      <td>8.641283</td>\n",
       "    </tr>\n",
       "  </tbody>\n",
       "</table>\n",
       "</div>"
      ],
      "text/plain": [
       "   total_rent  living_space  nr_of_rooms  building_type  age_of_building  \\\n",
       "0        2700           120          2.0   Dachgeschoss              NaN   \n",
       "1        2700           120          2.0   Dachgeschoss              NaN   \n",
       "2        2700           120          2.0   Dachgeschoss              NaN   \n",
       "3         790            27          1.0  Etagenwohnung             27.0   \n",
       "4         790            27          1.0  Etagenwohnung             27.0   \n",
       "\n",
       "   zip_code                          region                street   latitude  \\\n",
       "0     60323           Frankfurt, Bockenheim                   NaN  50.122361   \n",
       "1     60323           Frankfurt, Bockenheim                   NaN  50.122361   \n",
       "2     60323           Frankfurt, Bockenheim                   NaN  50.122361   \n",
       "3     60439  Frankfurt am Main, Heddernheim  Olof-Palme-Straße 31  50.172883   \n",
       "4     60439  Frankfurt am Main, Heddernheim  Olof-Palme-Straße 31  50.172883   \n",
       "\n",
       "   longitude  \n",
       "0   8.637532  \n",
       "1   8.637532  \n",
       "2   8.637532  \n",
       "3   8.641283  \n",
       "4   8.641283  "
      ]
     },
     "execution_count": 3,
     "metadata": {},
     "output_type": "execute_result"
    }
   ],
   "source": [
    "import pandas as pd\n",
    "housing = pd.read_csv('datasets/ffm-rents.csv', index_col = 0)\n",
    "housing.head()"
   ]
  },
  {
   "cell_type": "code",
   "execution_count": 4,
   "metadata": {},
   "outputs": [
    {
     "name": "stdout",
     "output_type": "stream",
     "text": [
      "<class 'pandas.core.frame.DataFrame'>\n",
      "Int64Index: 2400 entries, 0 to 2399\n",
      "Data columns (total 10 columns):\n",
      "total_rent         2400 non-null int64\n",
      "living_space       2400 non-null int64\n",
      "nr_of_rooms        2254 non-null float64\n",
      "building_type      2129 non-null object\n",
      "age_of_building    1998 non-null float64\n",
      "zip_code           2400 non-null int64\n",
      "region             2400 non-null object\n",
      "street             1788 non-null object\n",
      "latitude           2244 non-null float64\n",
      "longitude          2244 non-null float64\n",
      "dtypes: float64(4), int64(3), object(3)\n",
      "memory usage: 206.2+ KB\n"
     ]
    }
   ],
   "source": [
    "housing.info()"
   ]
  },
  {
   "cell_type": "code",
   "execution_count": 5,
   "metadata": {},
   "outputs": [
    {
     "data": {
      "text/plain": [
       "Etagenwohnung         1506\n",
       "Penthouse              212\n",
       "Erdgeschosswohnung     129\n",
       "Dachgeschoss           115\n",
       "Maisonette              86\n",
       "Hochparterre            54\n",
       "Sonstige                14\n",
       "Terrassenwohnung         8\n",
       "Loft                     5\n",
       "Name: building_type, dtype: int64"
      ]
     },
     "execution_count": 5,
     "metadata": {},
     "output_type": "execute_result"
    }
   ],
   "source": [
    "housing['building_type'].value_counts()"
   ]
  },
  {
   "cell_type": "code",
   "execution_count": 6,
   "metadata": {},
   "outputs": [
    {
     "data": {
      "text/html": [
       "<div>\n",
       "<style scoped>\n",
       "    .dataframe tbody tr th:only-of-type {\n",
       "        vertical-align: middle;\n",
       "    }\n",
       "\n",
       "    .dataframe tbody tr th {\n",
       "        vertical-align: top;\n",
       "    }\n",
       "\n",
       "    .dataframe thead th {\n",
       "        text-align: right;\n",
       "    }\n",
       "</style>\n",
       "<table border=\"1\" class=\"dataframe\">\n",
       "  <thead>\n",
       "    <tr style=\"text-align: right;\">\n",
       "      <th></th>\n",
       "      <th>total_rent</th>\n",
       "      <th>living_space</th>\n",
       "      <th>nr_of_rooms</th>\n",
       "      <th>age_of_building</th>\n",
       "      <th>zip_code</th>\n",
       "      <th>latitude</th>\n",
       "      <th>longitude</th>\n",
       "    </tr>\n",
       "  </thead>\n",
       "  <tbody>\n",
       "    <tr>\n",
       "      <th>count</th>\n",
       "      <td>2400.000000</td>\n",
       "      <td>2400.000000</td>\n",
       "      <td>2254.000000</td>\n",
       "      <td>1998.000000</td>\n",
       "      <td>2400.000000</td>\n",
       "      <td>2244.000000</td>\n",
       "      <td>2244.000000</td>\n",
       "    </tr>\n",
       "    <tr>\n",
       "      <th>mean</th>\n",
       "      <td>1822.452917</td>\n",
       "      <td>91.174167</td>\n",
       "      <td>2.730701</td>\n",
       "      <td>22.107107</td>\n",
       "      <td>61547.953750</td>\n",
       "      <td>50.094335</td>\n",
       "      <td>8.649220</td>\n",
       "    </tr>\n",
       "    <tr>\n",
       "      <th>std</th>\n",
       "      <td>1330.082189</td>\n",
       "      <td>52.813731</td>\n",
       "      <td>1.207598</td>\n",
       "      <td>32.028116</td>\n",
       "      <td>1773.809291</td>\n",
       "      <td>0.091742</td>\n",
       "      <td>0.092976</td>\n",
       "    </tr>\n",
       "    <tr>\n",
       "      <th>min</th>\n",
       "      <td>545.000000</td>\n",
       "      <td>17.000000</td>\n",
       "      <td>1.000000</td>\n",
       "      <td>-1.000000</td>\n",
       "      <td>60312.000000</td>\n",
       "      <td>49.606690</td>\n",
       "      <td>8.184860</td>\n",
       "    </tr>\n",
       "    <tr>\n",
       "      <th>25%</th>\n",
       "      <td>1125.000000</td>\n",
       "      <td>58.000000</td>\n",
       "      <td>2.000000</td>\n",
       "      <td>1.000000</td>\n",
       "      <td>60326.000000</td>\n",
       "      <td>50.083580</td>\n",
       "      <td>8.633757</td>\n",
       "    </tr>\n",
       "    <tr>\n",
       "      <th>50%</th>\n",
       "      <td>1450.000000</td>\n",
       "      <td>88.000000</td>\n",
       "      <td>3.000000</td>\n",
       "      <td>7.000000</td>\n",
       "      <td>60528.000000</td>\n",
       "      <td>50.106665</td>\n",
       "      <td>8.644815</td>\n",
       "    </tr>\n",
       "    <tr>\n",
       "      <th>75%</th>\n",
       "      <td>1816.000000</td>\n",
       "      <td>117.000000</td>\n",
       "      <td>4.000000</td>\n",
       "      <td>34.000000</td>\n",
       "      <td>63065.000000</td>\n",
       "      <td>50.126842</td>\n",
       "      <td>8.681107</td>\n",
       "    </tr>\n",
       "    <tr>\n",
       "      <th>max</th>\n",
       "      <td>9350.000000</td>\n",
       "      <td>312.000000</td>\n",
       "      <td>6.000000</td>\n",
       "      <td>129.000000</td>\n",
       "      <td>65931.000000</td>\n",
       "      <td>50.231342</td>\n",
       "      <td>9.012100</td>\n",
       "    </tr>\n",
       "  </tbody>\n",
       "</table>\n",
       "</div>"
      ],
      "text/plain": [
       "        total_rent  living_space  nr_of_rooms  age_of_building      zip_code  \\\n",
       "count  2400.000000   2400.000000  2254.000000      1998.000000   2400.000000   \n",
       "mean   1822.452917     91.174167     2.730701        22.107107  61547.953750   \n",
       "std    1330.082189     52.813731     1.207598        32.028116   1773.809291   \n",
       "min     545.000000     17.000000     1.000000        -1.000000  60312.000000   \n",
       "25%    1125.000000     58.000000     2.000000         1.000000  60326.000000   \n",
       "50%    1450.000000     88.000000     3.000000         7.000000  60528.000000   \n",
       "75%    1816.000000    117.000000     4.000000        34.000000  63065.000000   \n",
       "max    9350.000000    312.000000     6.000000       129.000000  65931.000000   \n",
       "\n",
       "          latitude    longitude  \n",
       "count  2244.000000  2244.000000  \n",
       "mean     50.094335     8.649220  \n",
       "std       0.091742     0.092976  \n",
       "min      49.606690     8.184860  \n",
       "25%      50.083580     8.633757  \n",
       "50%      50.106665     8.644815  \n",
       "75%      50.126842     8.681107  \n",
       "max      50.231342     9.012100  "
      ]
     },
     "execution_count": 6,
     "metadata": {},
     "output_type": "execute_result"
    }
   ],
   "source": [
    "housing.describe()"
   ]
  },
  {
   "cell_type": "code",
   "execution_count": 7,
   "metadata": {},
   "outputs": [
    {
     "data": {
      "image/png": "[encoded data removed]",
      "text/plain": [
       "<Figure size 1440x1080 with 9 Axes>"
      ]
     },
     "metadata": {
      "needs_background": "light"
     },
     "output_type": "display_data"
    }
   ],
   "source": [
    "%matplotlib inline\n",
    "import matplotlib.pyplot as plt\n",
    "housing.hist(bins=50, figsize=(20, 15))\n",
    "plt.show()"
   ]
  },
  {
   "cell_type": "code",
   "execution_count": 8,
   "metadata": {},
   "outputs": [],
   "source": [
    "#create a test set\n",
    "from sklearn.model_selection import train_test_split\n",
    "\n",
    "train_set, test_set = train_test_split(housing, test_size = 0.2, random_state=42)"
   ]
  },
  {
   "cell_type": "code",
   "execution_count": 9,
   "metadata": {},
   "outputs": [
    {
     "data": {
      "text/plain": [
       "Text(0.5, 1.0, 'House Prices\\n(Red X: Frankfurt Hauptbahnhof - Yellow X: Darmstadt Luisenplatz)')"
      ]
     },
     "execution_count": 9,
     "metadata": {},
     "output_type": "execute_result"
    },
    {
     "data": {
      "image/png": "[encoded data removed]",
      "text/plain": [
       "<Figure size 720x504 with 2 Axes>"
      ]
     },
     "metadata": {
      "needs_background": "light"
     },
     "output_type": "display_data"
    }
   ],
   "source": [
    "housing = housing[housing['total_rent'] <= 4000]\n",
    "housing.plot(kind='scatter', x='longitude', y='latitude', alpha=0.1,\n",
    "             figsize=(10,7), s=housing['living_space'], label='living space',\n",
    "             c=housing['total_rent'], cmap=plt.get_cmap('jet', 5000), colorbar=True)\n",
    "plt.legend()\n",
    "\n",
    "# Frankfurt Hauptbahnhof\n",
    "plt.plot([8.65749737], [50.10416625], 'rx')\n",
    "plt.plot([8.65749737, 8.65749737], [49.8, 50.10416625], 'r--')\n",
    "plt.plot([8.3, 8.65749737], [50.10416625, 50.10416625], 'r--')\n",
    "\n",
    "# Darmstadt Luisenplatz\n",
    "plt.plot([8.651180], [49.872768], 'yx')\n",
    "plt.plot([8.651180, 8.651180], [49.8, 49.872768], 'y--')\n",
    "plt.plot([8.651180, 9.1], [49.872768, 49.872768], 'y--')\n",
    "\n",
    "plt.axis([8.3, 9.1, 49.8, 50.3])\n",
    "plt.gca().set_title('House Prices\\n(Red X: Frankfurt Hauptbahnhof - Yellow X: Darmstadt Luisenplatz)')"
   ]
  },
  {
   "cell_type": "code",
   "execution_count": 10,
   "metadata": {},
   "outputs": [
    {
     "data": {
      "text/plain": [
       "total_rent         1.000000\n",
       "living_space       0.832353\n",
       "nr_of_rooms        0.583961\n",
       "latitude           0.133183\n",
       "longitude          0.083517\n",
       "age_of_building    0.047954\n",
       "zip_code          -0.235943\n",
       "Name: total_rent, dtype: float64"
      ]
     },
     "execution_count": 10,
     "metadata": {},
     "output_type": "execute_result"
    }
   ],
   "source": [
    "corr_matrix = housing.corr()\n",
    "corr_matrix['total_rent'].sort_values(ascending=False)"
   ]
  },
  {
   "cell_type": "code",
   "execution_count": 11,
   "metadata": {},
   "outputs": [
    {
     "data": {
      "text/plain": [
       "array([[<matplotlib.axes._subplots.AxesSubplot object at 0x12a355580>,\n",
       "        <matplotlib.axes._subplots.AxesSubplot object at 0x12a370430>,\n",
       "        <matplotlib.axes._subplots.AxesSubplot object at 0x12a3c2a00>],\n",
       "       [<matplotlib.axes._subplots.AxesSubplot object at 0x11a58cee0>,\n",
       "        <matplotlib.axes._subplots.AxesSubplot object at 0x11a5b6970>,\n",
       "        <matplotlib.axes._subplots.AxesSubplot object at 0x11a5eb1f0>],\n",
       "       [<matplotlib.axes._subplots.AxesSubplot object at 0x11a5f8100>,\n",
       "        <matplotlib.axes._subplots.AxesSubplot object at 0x11ac1d9a0>,\n",
       "        <matplotlib.axes._subplots.AxesSubplot object at 0x11ac71af0>]],\n",
       "      dtype=object)"
      ]
     },
     "execution_count": 11,
     "metadata": {},
     "output_type": "execute_result"
    },
    {
     "data": {
      "image/png": "[encoded data removed]",
      "text/plain": [
       "<Figure size 864x576 with 9 Axes>"
      ]
     },
     "metadata": {
      "needs_background": "light"
     },
     "output_type": "display_data"
    }
   ],
   "source": [
    "from pandas.plotting import scatter_matrix\n",
    "attributes = ['total_rent', 'living_space', 'nr_of_rooms']\n",
    "scatter_matrix(housing[attributes], figsize=(12,8))"
   ]
  },
  {
   "cell_type": "markdown",
   "metadata": {},
   "source": [
    "<font size=\"9\"><br/>Data Cleaning</font>"
   ]
  },
  {
   "cell_type": "code",
   "execution_count": 12,
   "metadata": {},
   "outputs": [
    {
     "data": {
      "text/plain": [
       "Etagenwohnung         1206\n",
       "Penthouse              162\n",
       "Erdgeschosswohnung     110\n",
       "Dachgeschoss            87\n",
       "Maisonette              67\n",
       "Hochparterre            46\n",
       "Sonstige                 7\n",
       "Terrassenwohnung         5\n",
       "Loft                     4\n",
       "Name: building_type, dtype: int64"
      ]
     },
     "execution_count": 12,
     "metadata": {},
     "output_type": "execute_result"
    }
   ],
   "source": [
    "# justify, that missing values in building type can be imputed with \"Etagenwohnung\"\n",
    "train_set['building_type'].value_counts()"
   ]
  },
  {
   "cell_type": "code",
   "execution_count": 13,
   "metadata": {},
   "outputs": [],
   "source": [
    "features = train_set.drop('total_rent', axis=1)\n",
    "housing_labels = train_set['total_rent'].copy()"
   ]
  },
  {
   "cell_type": "code",
   "execution_count": 14,
   "metadata": {},
   "outputs": [],
   "source": [
    "from sklearn.impute import SimpleImputer\n",
    "from sklearn.pipeline import Pipeline\n",
    "from sklearn.preprocessing import StandardScaler\n",
    "from sklearn.preprocessing import OneHotEncoder\n",
    "from sklearn.compose import ColumnTransformer\n",
    "\n",
    "def data_cleaning(dataset):\n",
    "    omitted_attribs = ['region', 'street']\n",
    "    num_attribs = ['living_space', 'nr_of_rooms', 'age_of_building', 'zip_code', 'latitude', 'longitude']\n",
    "    cat_attribs = ['building_type']\n",
    "\n",
    "    dataset.drop(omitted_attribs, axis=1)\n",
    "    \n",
    "    num_pipeline = Pipeline([\n",
    "        ('num_imputer', SimpleImputer(strategy='median')),\n",
    "        ('std_scaler', StandardScaler())\n",
    "    ])\n",
    "    \n",
    "    cat_pipeline = Pipeline([\n",
    "        ('cat_imputer', SimpleImputer(strategy='most_frequent')),\n",
    "        ('encoder', OneHotEncoder())\n",
    "    ])\n",
    "\n",
    "    full_pipeline = ColumnTransformer([\n",
    "        ('num', num_pipeline, num_attribs),\n",
    "        ('cat', cat_pipeline, cat_attribs)\n",
    "    ])\n",
    "\n",
    "    return full_pipeline.fit_transform(dataset)\n",
    "\n",
    "\n",
    "housing_prepared = data_cleaning(features)"
   ]
  },
  {
   "cell_type": "code",
   "execution_count": 18,
   "metadata": {},
   "outputs": [
    {
     "data": {
      "text/plain": [
       "array([-1.11980241, -1.47893915, -0.52083419,  2.22886409, -2.02503141,\n",
       "       -1.93690545,  0.        ,  0.        ,  1.        ,  0.        ,\n",
       "        0.        ,  0.        ,  0.        ,  0.        ,  0.        ])"
      ]
     },
     "execution_count": 18,
     "metadata": {},
     "output_type": "execute_result"
    }
   ],
   "source": [
    "housing_prepared[0]"
   ]
  },
  {
   "cell_type": "markdown",
   "metadata": {},
   "source": [
    "<font size=\"9\"><br/>Training different models</font>"
   ]
  },
  {
   "cell_type": "code",
   "execution_count": 89,
   "metadata": {},
   "outputs": [
    {
     "ename": "AttributeError",
     "evalue": "'numpy.ndarray' object has no attribute 'toarray'",
     "output_type": "error",
     "traceback": [
      "\u001b[0;31m---------------------------------------------------------------------------\u001b[0m",
      "\u001b[0;31mAttributeError\u001b[0m                            Traceback (most recent call last)",
      "\u001b[0;32m<ipython-input-89-d3fc0ff33379>\u001b[0m in \u001b[0;36m<module>\u001b[0;34m\u001b[0m\n\u001b[1;32m      9\u001b[0m \u001b[0msome_labels\u001b[0m \u001b[0;34m=\u001b[0m \u001b[0mhousing_labels\u001b[0m\u001b[0;34m.\u001b[0m\u001b[0miloc\u001b[0m\u001b[0;34m[\u001b[0m\u001b[0;34m:\u001b[0m\u001b[0;36m5\u001b[0m\u001b[0;34m]\u001b[0m\u001b[0;34m\u001b[0m\u001b[0;34m\u001b[0m\u001b[0m\n\u001b[1;32m     10\u001b[0m \u001b[0msome_data_prepared\u001b[0m \u001b[0;34m=\u001b[0m \u001b[0mdata_cleaning\u001b[0m\u001b[0;34m(\u001b[0m\u001b[0msome_data\u001b[0m\u001b[0;34m)\u001b[0m\u001b[0;34m\u001b[0m\u001b[0;34m\u001b[0m\u001b[0m\n\u001b[0;32m---> 11\u001b[0;31m \u001b[0mdf_some_data_prepared\u001b[0m \u001b[0;34m=\u001b[0m \u001b[0mpd\u001b[0m\u001b[0;34m.\u001b[0m\u001b[0mDataFrame\u001b[0m\u001b[0;34m(\u001b[0m\u001b[0msome_data_prepared\u001b[0m\u001b[0;34m.\u001b[0m\u001b[0mtoarray\u001b[0m\u001b[0;34m(\u001b[0m\u001b[0;34m)\u001b[0m\u001b[0;34m)\u001b[0m\u001b[0;34m\u001b[0m\u001b[0;34m\u001b[0m\u001b[0m\n\u001b[0m\u001b[1;32m     12\u001b[0m \u001b[0;34m\u001b[0m\u001b[0m\n\u001b[1;32m     13\u001b[0m \u001b[0mprint\u001b[0m\u001b[0;34m(\u001b[0m\u001b[0;34m'Predictions: '\u001b[0m\u001b[0;34m,\u001b[0m \u001b[0mlin_reg\u001b[0m\u001b[0;34m.\u001b[0m\u001b[0mpredict\u001b[0m\u001b[0;34m(\u001b[0m\u001b[0mdf_some_data_prepared\u001b[0m\u001b[0;34m.\u001b[0m\u001b[0miloc\u001b[0m\u001b[0;34m[\u001b[0m\u001b[0;34m:\u001b[0m\u001b[0;36m5\u001b[0m\u001b[0;34m]\u001b[0m\u001b[0;34m)\u001b[0m\u001b[0;34m)\u001b[0m\u001b[0;34m\u001b[0m\u001b[0;34m\u001b[0m\u001b[0m\n",
      "\u001b[0;31mAttributeError\u001b[0m: 'numpy.ndarray' object has no attribute 'toarray'"
     ]
    }
   ],
   "source": [
    "from sklearn.linear_model import LinearRegression\n",
    "import numpy as np\n",
    "from sklearn.metrics import mean_squared_error\n",
    "\n",
    "lin_reg = LinearRegression()\n",
    "lin_reg.fit(housing_prepared, housing_labels)\n",
    "\n",
    "some_data = housing.iloc[:5]\n",
    "some_labels = housing_labels.iloc[:5]\n",
    "some_data_prepared = data_cleaning(some_data)\n",
    "df_some_data_prepared = pd.DataFrame(some_data_prepared.toarray())\n",
    "\n",
    "print('Predictions: ', lin_reg.predict(df_some_data_prepared.iloc[:5]))\n",
    "print('Labels: ', list(some_labels))"
   ]
  },
  {
   "cell_type": "code",
   "execution_count": 88,
   "metadata": {},
   "outputs": [
    {
     "data": {
      "text/plain": [
       "572.6374220333217"
      ]
     },
     "execution_count": 88,
     "metadata": {},
     "output_type": "execute_result"
    }
   ],
   "source": [
    "# model is off by about 600€ on average -> underfitting\n",
    "housing_predictions = lin_reg.predict(housing_prepared)\n",
    "lin_mse = mean_squared_error(housing_labels, housing_predictions)\n",
    "lin_rmse = np.sqrt(lin_mse)\n",
    "lin_rmse"
   ]
  },
  {
   "cell_type": "code",
   "execution_count": 57,
   "metadata": {},
   "outputs": [
    {
     "data": {
      "text/plain": [
       "572.6374220333217"
      ]
     },
     "execution_count": 57,
     "metadata": {},
     "output_type": "execute_result"
    }
   ],
   "source": [
    "from sklearn.tree import DecisionTreeRegressor\n",
    "\n",
    "tree_reg = DecisionTreeRegressor()\n",
    "tree_reg.fit(housing_prepared, housing_labels)\n",
    "\n",
    "housing_predictions = tree_reg.predict(housing_prepared)\n",
    "tree_mse = mean_squared_error(housing_labels, housing_predictions)\n",
    "tree_rmse = np.sqrt(lin_mse)\n",
    "tree_rmse"
   ]
  },
  {
   "cell_type": "code",
   "execution_count": 58,
   "metadata": {},
   "outputs": [
    {
     "name": "stdout",
     "output_type": "stream",
     "text": [
      "Scores: [ 0.05173495 22.37249054 23.27810315  0.04677845  0.66375991  0.60760913\n",
      "  0.20350964  0.0637888   0.04677845  0.0637888 ]\n",
      "Mean: 4.739834179830272\n",
      "Standard deviation: 9.047676562813805\n"
     ]
    }
   ],
   "source": [
    "from sklearn.model_selection import cross_val_score\n",
    "scores = cross_val_score(tree_reg, housing_prepared, housing_labels, scoring='neg_mean_squared_error', cv=10)\n",
    "tree_rmse_scores = np.sqrt(-scores)\n",
    "\n",
    "def display_scores(scores):\n",
    "    print(\"Scores:\", scores)\n",
    "    print(\"Mean:\", scores.mean())\n",
    "    print(\"Standard deviation:\", scores.std())\n",
    "    \n",
    "# scores look like the model is overfitting\n",
    "display_scores(tree_rmse_scores)"
   ]
  },
  {
   "cell_type": "code",
   "execution_count": 59,
   "metadata": {},
   "outputs": [
    {
     "name": "stdout",
     "output_type": "stream",
     "text": [
      "Scores: [519.45009488 641.42061177 593.79181637 550.28747874 545.98174962\n",
      " 565.02875897 586.25497175 570.67092977 616.059278   567.82782557]\n",
      "Mean: 575.6773515433549\n",
      "Standard deviation: 33.58712071903879\n"
     ]
    }
   ],
   "source": [
    "lin_scores = cross_val_score(lin_reg, housing_prepared, housing_labels, scoring=\"neg_mean_squared_error\", cv=10)\n",
    "lin_rmse_scores = np.sqrt(-lin_scores)\n",
    "display_scores(lin_rmse_scores)"
   ]
  },
  {
   "cell_type": "code",
   "execution_count": 60,
   "metadata": {},
   "outputs": [
    {
     "name": "stderr",
     "output_type": "stream",
     "text": [
      "/Library/Frameworks/Python.framework/Versions/3.8/lib/python3.8/site-packages/sklearn/ensemble/forest.py:244: FutureWarning: The default value of n_estimators will change from 10 in version 0.20 to 100 in 0.22.\n",
      "  warn(\"The default value of n_estimators will change from \"\n"
     ]
    },
    {
     "name": "stdout",
     "output_type": "stream",
     "text": [
      "Scores: [17.05288973 30.08327666 67.06355571 11.68722488  9.13834771 17.37952613\n",
      " 10.79160582 15.88598231 18.68324354  5.44864369]\n",
      "Mean: 20.321429618985242\n",
      "Standard deviation: 16.832834341651687\n"
     ]
    }
   ],
   "source": [
    "from sklearn.ensemble import RandomForestRegressor\n",
    "forest_reg = RandomForestRegressor()\n",
    "forest_reg.fit(housing_prepared, housing_labels)\n",
    "\n",
    "forest_scores = cross_val_score(forest_reg, housing_prepared, housing_labels, scoring=\"neg_mean_squared_error\", cv=10)\n",
    "forest_rmse_scores = np.sqrt(-forest_scores)\n",
    "display_scores(forest_rmse_scores)"
   ]
  },
  {
   "cell_type": "markdown",
   "metadata": {},
   "source": [
    "<font size=\"9\"><br/>Finetuning</font>"
   ]
  },
  {
   "cell_type": "code",
   "execution_count": 77,
   "metadata": {},
   "outputs": [
    {
     "data": {
      "text/plain": [
       "{'bootstrap': False, 'max_features': 3, 'n_estimators': 3}"
      ]
     },
     "execution_count": 77,
     "metadata": {},
     "output_type": "execute_result"
    }
   ],
   "source": [
    "from sklearn.model_selection import GridSearchCV\n",
    "\n",
    "param_grid = [{'n_estimators': [3, 10, 30], 'max_features': [2, 4, 6, 8]}, \n",
    "              {'bootstrap': [False], 'n_estimators': [1, 3, 10], 'max_features': [1, 2, 3, 4]}]\n",
    "\n",
    "forest_reg = RandomForestRegressor()\n",
    "\n",
    "grid_search = GridSearchCV(forest_reg, param_grid, cv=30, \n",
    "            scoring='neg_mean_squared_error', return_train_score=True)\n",
    "\n",
    "grid_search.fit(housing_prepared, housing_labels)\n",
    "grid_search.best_params_"
   ]
  },
  {
   "cell_type": "code",
   "execution_count": 79,
   "metadata": {},
   "outputs": [
    {
     "name": "stdout",
     "output_type": "stream",
     "text": [
      "58.93632217654765 {'max_features': 2, 'n_estimators': 3}\n",
      "19.303656863525497 {'max_features': 2, 'n_estimators': 10}\n",
      "12.47013989044472 {'max_features': 2, 'n_estimators': 30}\n",
      "57.371385925971 {'max_features': 4, 'n_estimators': 3}\n",
      "24.99681936544712 {'max_features': 4, 'n_estimators': 10}\n",
      "18.1990900883766 {'max_features': 4, 'n_estimators': 30}\n",
      "49.595705920236334 {'max_features': 6, 'n_estimators': 3}\n",
      "27.58130453174722 {'max_features': 6, 'n_estimators': 10}\n",
      "17.87498710064256 {'max_features': 6, 'n_estimators': 30}\n",
      "34.475636514534095 {'max_features': 8, 'n_estimators': 3}\n",
      "18.843384465901504 {'max_features': 8, 'n_estimators': 10}\n",
      "14.65419493610358 {'max_features': 8, 'n_estimators': 30}\n",
      "11.188650424680475 {'bootstrap': False, 'max_features': 1, 'n_estimators': 1}\n",
      "5.109973018679111 {'bootstrap': False, 'max_features': 1, 'n_estimators': 3}\n",
      "10.778086487206464 {'bootstrap': False, 'max_features': 1, 'n_estimators': 10}\n",
      "7.084200613033386 {'bootstrap': False, 'max_features': 2, 'n_estimators': 1}\n",
      "5.347514366486233 {'bootstrap': False, 'max_features': 2, 'n_estimators': 3}\n",
      "1.230932654820157 {'bootstrap': False, 'max_features': 2, 'n_estimators': 10}\n",
      "5.489427565089939 {'bootstrap': False, 'max_features': 3, 'n_estimators': 1}\n",
      "1.0901846138931068 {'bootstrap': False, 'max_features': 3, 'n_estimators': 3}\n",
      "3.4541019383774128 {'bootstrap': False, 'max_features': 3, 'n_estimators': 10}\n",
      "7.768020875725206 {'bootstrap': False, 'max_features': 4, 'n_estimators': 1}\n",
      "1.2150751355211964 {'bootstrap': False, 'max_features': 4, 'n_estimators': 3}\n",
      "3.408718508086179 {'bootstrap': False, 'max_features': 4, 'n_estimators': 10}\n"
     ]
    }
   ],
   "source": [
    "cvres = grid_search.cv_results_\n",
    "for mean_score, params in zip(cvres['mean_test_score'], cvres['params']):\n",
    "    print(np.sqrt(-mean_score), params)"
   ]
  },
  {
   "cell_type": "markdown",
   "metadata": {},
   "source": [
    "<font size=\"9\"><br/>Evaluation on the test set</font>"
   ]
  },
  {
   "cell_type": "code",
   "execution_count": null,
   "metadata": {},
   "outputs": [],
   "source": [
    "final_model = grid_search.best_estimator_\n",
    "\n",
    "X_test = "
   ]
  }
 ],
 "metadata": {
  "kernelspec": {
   "display_name": "Python 3",
   "language": "python",
   "name": "python3"
  },
  "language_info": {
   "codemirror_mode": {
    "name": "ipython",
    "version": 3
   },
   "file_extension": ".py",
   "mimetype": "text/x-python",
   "name": "python",
   "nbconvert_exporter": "python",
   "pygments_lexer": "ipython3",
   "version": "3.8.0"
  }
 },
 "nbformat": 4,
 "nbformat_minor": 2
}
