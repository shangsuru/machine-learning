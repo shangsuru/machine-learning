{
 "cells": [
  {
   "cell_type": "code",
   "execution_count": 2,
   "metadata": {},
   "outputs": [
    {
     "data": {
      "image/png": "[encoded data removed]",
      "text/plain": [
       "<Figure size 432x288 with 1 Axes>"
      ]
     },
     "metadata": {
      "needs_background": "light"
     },
     "output_type": "display_data"
    }
   ],
   "source": [
    "import numpy as np\n",
    "import matplotlib.pyplot as plt\n",
    "\n",
    "data = np.loadtxt('datasets/ldaData.txt')\n",
    "c1 = data[:50]\n",
    "c2 = data[50:93]\n",
    "c3 = data[93:]\n",
    "\n",
    "plt.plot(c1.T[0], c1.T[1], 'ro', label=\"Class 1\")\n",
    "plt.plot(c2.T[0], c2.T[1], 'yo', label=\"Class 2\")\n",
    "plt.plot(c3.T[0], c3.T[1], 'bo', label=\"Class 3\")\n",
    "plt.legend()\n",
    "plt.savefig('lda_data.png')\n"
   ]
  },
  {
   "cell_type": "code",
   "execution_count": 3,
   "metadata": {},
   "outputs": [
    {
     "data": {
      "image/png": "[encoded data removed]",
      "text/plain": [
       "<Figure size 432x288 with 1 Axes>"
      ]
     },
     "metadata": {
      "needs_background": "light"
     },
     "output_type": "display_data"
    }
   ],
   "source": [
    "class LDA():\n",
    "    def fit(self, c1, c2, c3):\n",
    "        self.c1_c2_discriminant = self.get_discriminant_between_classes(c1, c2)\n",
    "        self.c1_c3_discriminant = self.get_discriminant_between_classes(c1, c3)\n",
    "        self.c2_c3_discriminant = self.get_discriminant_between_classes(c2, c3)\n",
    "        \n",
    "    \n",
    "        \n",
    "    def get_discriminant_between_classes(self, classX, classY):\n",
    "        mean_classX = classX.mean(axis=0)\n",
    "        mean_classY = classY.mean(axis=0)\n",
    "        \n",
    "        within_class_covariance = sum([np.outer(x - mean_classX, x - mean_classX) for x in classX])  \\\n",
    "                            + sum([np.outer(x - mean_classY, x - mean_classY) for x in classY])\n",
    "        \n",
    "        discriminant = np.linalg.inv(within_class_covariance)@(mean_classX - mean_classY)\n",
    "        return discriminant\n",
    "    \n",
    "    \n",
    "    def is_classX_more_likely_than_classY(self, x, classX, classY, discriminant):\n",
    "        def gaussian(x, mean, variance):\n",
    "            return np.exp(-(x - mean)**2/(2 * variance)) / np.sqrt(2 * np.pi * variance)\n",
    "        \n",
    "        x = x@discriminant\n",
    "        classX = classX@discriminant\n",
    "        classY = classY@discriminant\n",
    "        \n",
    "        if gaussian(x, np.mean(classX), np.var(classX)) > gaussian(x, np.mean(classY), np.var(classY)):\n",
    "            return True\n",
    "        else:\n",
    "            return False\n",
    "        \n",
    "        \n",
    "    def classify(self, x):\n",
    "        is_c1 = True\n",
    "        is_c2 = True\n",
    "        is_c3 = True\n",
    "        \n",
    "        answer = self.is_classX_more_likely_than_classY(x, c1, c2, self.c1_c2_discriminant)\n",
    "        is_c1 = is_c1 and answer\n",
    "        is_c2 = is_c2 and not answer\n",
    "        \n",
    "        answer = self.is_classX_more_likely_than_classY(x, c1, c3, self.c1_c3_discriminant)\n",
    "        is_c1 = is_c1 and answer\n",
    "        is_c3 = is_c3 and not answer\n",
    "        \n",
    "        answer = self.is_classX_more_likely_than_classY(x, c2, c3, self.c2_c3_discriminant)\n",
    "        is_c2 = is_c2 and answer\n",
    "        is_c3 = is_c3 and not answer\n",
    "        \n",
    "        return [is_c1, is_c2, is_c3]\n",
    "    \n",
    "    \n",
    "    def plot_clusters(self, data):\n",
    "        c1 = np.asarray([x for x in data if self.classify(x)[0]])\n",
    "        c2 = np.asarray([x for x in data if self.classify(x)[1]])\n",
    "        c3 = np.asarray([x for x in data if self.classify(x)[2]])\n",
    "        \n",
    "        plt.plot(c1.T[0], c1.T[1], 'ro', label=\"Class 1\")\n",
    "        plt.plot(c2.T[0], c2.T[1], 'yo', label=\"Class 2\")\n",
    "        plt.plot(c3.T[0], c3.T[1], 'bo', label=\"Class 3\")\n",
    "        plt.legend()\n",
    "        \n",
    "        \n",
    "           \n",
    "lda = LDA()\n",
    "lda.fit(c1, c2, c3)\n",
    "lda.plot_clusters(data)\n",
    "plt.savefig('lda_pred.png')"
   ]
  },
  {
   "cell_type": "code",
   "execution_count": null,
   "metadata": {},
   "outputs": [],
   "source": []
  }
 ],
 "metadata": {
  "kernelspec": {
   "display_name": "Python 3",
   "language": "python",
   "name": "python3"
  },
  "language_info": {
   "codemirror_mode": {
    "name": "ipython",
    "version": 3
   },
   "file_extension": ".py",
   "mimetype": "text/x-python",
   "name": "python",
   "nbconvert_exporter": "python",
   "pygments_lexer": "ipython3",
   "version": "3.7.6"
  }
 },
 "nbformat": 4,
 "nbformat_minor": 4
}
