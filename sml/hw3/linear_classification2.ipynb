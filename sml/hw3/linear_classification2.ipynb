{
 "cells": [
  {
   "cell_type": "code",
   "execution_count": 2,
   "metadata": {},
   "outputs": [
    {
     "data": {
      "text/plain": [
       "[<matplotlib.lines.Line2D at 0x7fadb8923050>]"
      ]
     },
     "execution_count": 2,
     "metadata": {},
     "output_type": "execute_result"
    },
    {
     "data": {
      "image/png": "[encoded data removed]",
      "text/plain": [
       "<Figure size 432x288 with 1 Axes>"
      ]
     },
     "metadata": {
      "needs_background": "light"
     },
     "output_type": "display_data"
    }
   ],
   "source": [
    "import numpy as np\n",
    "import matplotlib.pyplot as plt\n",
    "\n",
    "x = np.loadtxt('sml/datasets/ldaData.txt', usecols=0)\n",
    "y = np.loadtxt('sml/datasets/ldaData.txt', usecols=1)\n",
    "data = np.loadtxt('sml/datasets/ldaData.txt')\n",
    "plt.plot(x[:50], y[:50], 'ro')\n",
    "plt.plot(x[50:93], y[50:93], 'yo')\n",
    "plt.plot(x[93:], y[93:], 'bo')\n"
   ]
  },
  {
   "cell_type": "code",
   "execution_count": 3,
   "metadata": {},
   "outputs": [
    {
     "data": {
      "image/png": "[encoded data removed]",
      "text/plain": [
       "<Figure size 432x288 with 1 Axes>"
      ]
     },
     "metadata": {
      "needs_background": "light"
     },
     "output_type": "display_data"
    }
   ],
   "source": [
    "class LDA():\n",
    "    def compute_params(self, data):\n",
    "        # means for each class\n",
    "        means = [data[:50].mean(axis=0), data[50:93].mean(axis=0), data[93:].mean(axis=0)]\n",
    "        total_mean = data.mean(axis=0)\n",
    "\n",
    "        # between class covariance\n",
    "        S_B = 50 * np.outer((means[0] - total_mean), (means[0] - total_mean)) \\\n",
    "                + 43 * np.outer((means[1] - total_mean), (means[1] - total_mean)) \\\n",
    "                + 44 * np.outer((means[2] - total_mean), (means[2] - total_mean))\n",
    "        \n",
    "        # within class covariance\n",
    "        S_W = np.zeros((data.shape[1], data.shape[1]))\n",
    "        for i in range(0, 50): # class 1\n",
    "            S_W += np.outer((data[i] - means[0]), (data[i] - means[0]))\n",
    "        for i in range(50, 93): # class 1\n",
    "            S_W += np.outer((data[i] - means[1]), (data[i] - means[1]))\n",
    "        for i in range(93, len(data)): # class 1\n",
    "            S_W += np.outer((data[i] - means[2]), (data[i] - means[2]))\n",
    "        \n",
    "        # eigenvalues\n",
    "        eigenvalues, eigenvectors = np.linalg.eig(np.linalg.pinv((S_W))@S_B)\n",
    "        \n",
    "        self.means = means\n",
    "        self.w = eigenvalues\n",
    "    \n",
    "        \n",
    "    \n",
    "    # model a multivariate Gaussian distribution for the projections\n",
    "    def bayes_classifier(self, data):\n",
    "        classes = [[], [], []]\n",
    "        \n",
    "        #compute prior, projections of data points, means and covariances\n",
    "        priors = [50/len(data), 43/len(data), 44/len(data)]\n",
    "        projections = data@self.w\n",
    "        means = [np.mean(projections[:50]), np.mean(projections[50:93]), np.mean(projections[93:])]\n",
    "        covariances = [np.cov(projections[:50]).item(), np.cov(projections[50:93]).item(), np.cov(projections[93:]).item()]\n",
    "        \n",
    "        # get the posterior distribution for each class\n",
    "        for point in data:\n",
    "            proj = self.w.T@point\n",
    "            posterior_c1 = self.gaussian(proj, means[0], covariances[0]) * priors[0]\n",
    "            posterior_c2 = self.gaussian(proj, means[1], covariances[1]) * priors[1]\n",
    "            posterior_c3 = self.gaussian(proj, means[2], covariances[2]) * priors[2]\n",
    "            \n",
    "            # classify according to biggest posterior\n",
    "            if posterior_c1 > posterior_c2 and posterior_c1 > posterior_c3:\n",
    "                classes[0].append(point)\n",
    "            elif posterior_c2 > posterior_c3:\n",
    "                classes[1].append(point)\n",
    "            else:\n",
    "                classes[2].append(point)\n",
    "                \n",
    "        return classes\n",
    "        \n",
    "    \n",
    "    def gaussian(self, point, mean, variance):\n",
    "        return 1./(np.sqrt(2*np.pi*variance)) * np.exp(-(point - mean)**2/(2*variance))\n",
    "    \n",
    "    \n",
    "\n",
    "lda = LDA()\n",
    "lda.compute_params(data)\n",
    "classes = lda.bayes_classifier(data)\n",
    "\n",
    "x1 = [x[0] for x in classes[0]]\n",
    "y1 = [x[1] for x in classes[0]]\n",
    "plt.plot(x1, y1, 'ro')\n",
    "\n",
    "x2 = [x[0] for x in classes[1]]\n",
    "y2 = [x[1] for x in classes[1]]\n",
    "plt.plot(x2, y2, 'yo')\n",
    "\n",
    "x3 = [x[0] for x in classes[2]]\n",
    "y3 = [x[1] for x in classes[2]]\n",
    "plt.plot(x3, y3, 'bo')\n",
    "plt.savefig('lda_v2')"
   ]
  },
  {
   "cell_type": "code",
   "execution_count": null,
   "metadata": {},
   "outputs": [],
   "source": []
  }
 ],
 "metadata": {
  "kernelspec": {
   "display_name": "Python 3",
   "language": "python",
   "name": "python3"
  },
  "language_info": {
   "codemirror_mode": {
    "name": "ipython",
    "version": 3
   },
   "file_extension": ".py",
   "mimetype": "text/x-python",
   "name": "python",
   "nbconvert_exporter": "python",
   "pygments_lexer": "ipython3",
   "version": "3.7.6"
  }
 },
 "nbformat": 4,
 "nbformat_minor": 4
}
