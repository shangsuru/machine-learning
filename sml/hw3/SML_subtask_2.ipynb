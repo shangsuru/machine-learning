{
 "cells": [
  {
   "cell_type": "code",
   "execution_count": 1,
   "metadata": {},
   "outputs": [
    {
     "data": {
      "text/plain": [
       "<matplotlib.collections.PathCollection at 0x7f9314413510>"
      ]
     },
     "execution_count": 1,
     "metadata": {},
     "output_type": "execute_result"
    },
    {
     "data": {
      "image/png": "[encoded data removed]",
      "text/plain": [
       "<Figure size 432x288 with 1 Axes>"
      ]
     },
     "metadata": {
      "needs_background": "light"
     },
     "output_type": "display_data"
    }
   ],
   "source": [
    "import numpy as np\n",
    "import matplotlib.pyplot as plt\n",
    "from math import log\n",
    "\n",
    "data = np.loadtxt(\"dataSets/ldaData.txt\")\n",
    "\n",
    "c1 = np.array(data[:50])\n",
    "c2 = np.array(data[50:93])\n",
    "c3 = np.array(data[93:])\n",
    "\n",
    "plt.scatter(c1.T[0], c1.T[1], color='blue')\n",
    "plt.scatter(c2.T[0], c2.T[1], color='red')\n",
    "plt.scatter(c3.T[0], c3.T[1], color='green')"
   ]
  },
  {
   "cell_type": "code",
   "execution_count": 2,
   "metadata": {},
   "outputs": [
    {
     "data": {
      "image/png": "[encoded data removed]",
      "text/plain": [
       "<Figure size 432x288 with 1 Axes>"
      ]
     },
     "metadata": {
      "needs_background": "light"
     },
     "output_type": "display_data"
    }
   ],
   "source": [
    "class LDA:\n",
    "    def __init__(self, classes):\n",
    "        self.classes = classes\n",
    "        self.means = [self.mean(c) for c in classes]\n",
    "        self.cov = self.covariance()\n",
    "        self.priors = [self.prior(c) for c in classes]\n",
    "        \n",
    "        \n",
    "    def class_of_x(self, x):\n",
    "        best_class_index = -1\n",
    "        best_class = None\n",
    "        highest_disc = float('-inf')\n",
    "        decision_boundary = False\n",
    "        for index, cl in enumerate(self.classes):\n",
    "            disc_cl = self.discriminant(x, self.priors[index], self.means[index])\n",
    "            if disc_cl > highest_disc:\n",
    "                best_class_index = index\n",
    "                best_class = cl\n",
    "                highest_disc = disc_cl\n",
    "                decision_boundary = False\n",
    "            elif disc_cl == highest_disc:\n",
    "                decision_boundary = True\n",
    "        if decision_boundary:\n",
    "            return -1, None\n",
    "        else:\n",
    "            return best_class_index, best_class\n",
    "            \n",
    "    def mean(self, c):\n",
    "        return sum(c) / len(c)\n",
    "    \n",
    "    def covariance(self):\n",
    "        total_samples = sum([len(c) for c in self.classes])\n",
    "        return sum([sum([(x - self.mean(c))@(x-self.mean(c)).T for x in c]) for c in self.classes]) / (total_samples - len(self.classes))\n",
    "        \n",
    "    def prior(self, c):\n",
    "        total_samples = sum([len(c) for c in self.classes])\n",
    "        return len(c) / total_samples\n",
    "    \n",
    "    def discriminant(self, x, prior_c, mean_c):\n",
    "        return log(prior_c) - 0.5 * mean_c.T@np.linalg.inv(self.cov)@mean_c + x.T@np.linalg.inv(self.cov)@mean_c\n",
    "\n",
    "\n",
    "c1.shape = (c1.shape[0], c1.shape[1], 1)\n",
    "c2.shape = (c2.shape[0], c2.shape[1], 1)\n",
    "c3.shape = (c3.shape[0], c3.shape[1], 1)\n",
    "classes = [c1, c2, c3]\n",
    "    \n",
    "lda = LDA(classes)\n",
    "\n",
    "class_points =[[], [], [], []]\n",
    "\n",
    "for x in data:\n",
    "    i, _ = lda.class_of_x(x)\n",
    "    class_points[i].append(x)\n",
    "\n",
    "for c_i in class_points:\n",
    "    if not c_i:\n",
    "        continue\n",
    "    c_i_np = np.array(c_i)\n",
    "    plt.scatter(c_i_np.T[0], c_i_np.T[1])\n"
   ]
  },
  {
   "cell_type": "code",
   "execution_count": 3,
   "metadata": {},
   "outputs": [
    {
     "data": {
      "image/png": "[encoded data removed]",
      "text/plain": [
       "<Figure size 432x288 with 1 Axes>"
      ]
     },
     "metadata": {
      "needs_background": "light"
     },
     "output_type": "display_data"
    }
   ],
   "source": [
    "plotspace = np.mgrid[0:12:0.25, -3:9:0.25].reshape(2, -1).T # linspace for 2D\n",
    "\n",
    "class_points =[[], [], [], []]\n",
    "\n",
    "for x in plotspace:\n",
    "    i, _ = lda.class_of_x(x)\n",
    "    class_points[i].append(x)\n",
    "\n",
    "for c_i in class_points:\n",
    "    if not c_i:\n",
    "        continue\n",
    "    c_i_np = np.array(c_i)\n",
    "    plt.scatter(c_i_np.T[0], c_i_np.T[1])"
   ]
  },
  {
   "cell_type": "code",
   "execution_count": null,
   "metadata": {},
   "outputs": [],
   "source": []
  }
 ],
 "metadata": {
  "kernelspec": {
   "display_name": "Python 3",
   "language": "python",
   "name": "python3"
  },
  "language_info": {
   "codemirror_mode": {
    "name": "ipython",
    "version": 3
   },
   "file_extension": ".py",
   "mimetype": "text/x-python",
   "name": "python",
   "nbconvert_exporter": "python",
   "pygments_lexer": "ipython3",
   "version": "3.7.6"
  }
 },
 "nbformat": 4,
 "nbformat_minor": 4
}
