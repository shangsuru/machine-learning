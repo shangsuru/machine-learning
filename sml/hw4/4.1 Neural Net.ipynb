{
 "cells": [
  {
   "cell_type": "code",
   "execution_count": 24,
   "metadata": {},
   "outputs": [],
   "source": [
    "# Load the dataset\n",
    "import numpy as np\n",
    "import matplotlib.pyplot as plt\n",
    "\n",
    "X_train = np.loadtxt(\"datasets/mnist_small_train_in.txt\", delimiter=',', usecols=range(784))\n",
    "y_train = np.loadtxt(\"datasets/mnist_small_train_out.txt\")\n",
    "X_test = np.loadtxt(\"datasets/mnist_small_test_in.txt\", delimiter=',', usecols=range(784))\n",
    "y_test = np.loadtxt(\"datasets/mnist_small_test_out.txt\")"
   ]
  },
  {
   "cell_type": "code",
   "execution_count": 25,
   "metadata": {},
   "outputs": [
    {
     "data": {
      "text/plain": [
       "0.0"
      ]
     },
     "execution_count": 25,
     "metadata": {},
     "output_type": "execute_result"
    },
    {
     "data": {
      "image/png": "[encoded data removed]",
      "text/plain": [
       "<Figure size 432x288 with 1 Axes>"
      ]
     },
     "metadata": {
      "needs_background": "light"
     },
     "output_type": "display_data"
    }
   ],
   "source": [
    "# Inspect a training example\n",
    "plt.imshow(X_train[0].reshape(28,28), cmap=plt.cm.binary)\n",
    "y_train[0]"
   ]
  },
  {
   "cell_type": "code",
   "execution_count": 26,
   "metadata": {},
   "outputs": [],
   "source": [
    "# One hot encoding for labels\n",
    "def one_hot_encoding(y_train):\n",
    "    n = y_train.shape[0]\n",
    "    y_onehot = np.zeros((n, 10))\n",
    "    for i in range(n):\n",
    "        number = int(y_train[i])\n",
    "        y_onehot[i][number] = 1\n",
    "    return y_onehot.T\n",
    "\n",
    "# activation function\n",
    "def sigmoid(z):\n",
    "    return 1 / (1 + np.exp(-z))\n",
    "    \n",
    "# for classification at the output layer\n",
    "def softmax(z):\n",
    "    return np.exp(z) / np.sum(np.exp(z), axis=0)\n",
    "    \n",
    "\n",
    "# categorical cross entropy loss function\n",
    "def compute_loss(Y, pred):\n",
    "    return -np.sum(Y * np.log(pred))\n",
    "    "
   ]
  },
  {
   "cell_type": "code",
   "execution_count": 27,
   "metadata": {},
   "outputs": [
    {
     "name": "stdout",
     "output_type": "stream",
     "text": [
      "0 14814.041168033766\n",
      "100 2391.860908268138\n",
      "200 1691.2973226248291\n",
      "300 1356.7479712432084\n",
      "400 1123.643738898555\n",
      "500 943.7876377059765\n",
      "600 799.2066742294205\n",
      "700 680.4897326779728\n",
      "800 582.0161148415593\n",
      "900 500.0934197619272\n"
     ]
    }
   ],
   "source": [
    "learning_rate = 1\n",
    "h = 50 # number of neurons in the hidden layer\n",
    "n = X_train.shape[1] # number of features, i.e. number of neurons in the input layer\n",
    "d = 10 # number of digits, i.e. number of neurons in the output layer\n",
    "m = X_train.shape[0] # number of training examples\n",
    "\n",
    "\n",
    "# Initialize weight and bias parameters for first and second layer\n",
    "w1 = np.random.randn(h, n) * np.sqrt(1. / n) # divide by the variance for better initialization\n",
    "b1 = np.zeros((h, 1)) * np.sqrt(1. / n)\n",
    "w2 = np.random.randn(d, h) * np.sqrt(1. / h)\n",
    "b2 = np.zeros((d, 1)) * np.sqrt(1. / h)\n",
    "\n",
    "X = X_train.T\n",
    "Y = one_hot_encoding(y_train)\n",
    "Y_test = one_hot_encoding(y_test)\n",
    "X_test = X_test.T\n",
    "\n",
    "# for gradient descent with momentum\n",
    "b = .8\n",
    "dw2_mom = np.zeros(w2.shape)\n",
    "db2_mom = np.zeros(b2.shape)\n",
    "dw1_mom = np.zeros(w1.shape)\n",
    "db1_mom = np.zeros(b1.shape)\n",
    "\n",
    "# for plotting the error rate on the test data\n",
    "misclassifications = []\n",
    "\n",
    "# training loop\n",
    "for i in range(1000): # number of epochs\n",
    "    # forward pass\n",
    "    z1 = w1@X + b1\n",
    "    a1 = sigmoid(z1)\n",
    "    z2 = w2@a1 + b2\n",
    "    a2 = softmax(z2)\n",
    "    \n",
    "    loss = compute_loss(Y, a2)\n",
    "    \n",
    "    # backward pass\n",
    "    dz2 = a2 - Y\n",
    "    dw2 = (dz2@a1.T) / m\n",
    "    db2 = dz2@np.ones((m, 1)) / m \n",
    "    \n",
    "    da1 = w2.T@dz2\n",
    "    dz1 = da1 * sigmoid(z1) * (1 - sigmoid(z1)) \n",
    "    dw1 = dz1@X.T / m\n",
    "    db1 = dz1@np.ones((m ,1)) / m  \n",
    "    \n",
    "    \n",
    "    # optimization of parameters\n",
    "    dw2_mom = (b * dw2_mom) + (1 - b) * dw2\n",
    "    db2_mom = (b * db2_mom) + (1 - b) * db2\n",
    "    dw1_mom = (b * dw1_mom) + (1 - b) * dw1\n",
    "    db1_mom = (b * db1_mom) + (1 - b) * db1\n",
    "    \n",
    "    w2 = w2 - learning_rate * dw2_mom\n",
    "    b2 = b2 - learning_rate * db2_mom\n",
    "    w1 = w1 - learning_rate * dw1_mom\n",
    "    b1 = b1 - learning_rate * db1_mom\n",
    "    \n",
    "    # forward pass with the test data\n",
    "    predictions = np.argmax(softmax(w2@sigmoid(w1@X_test + b1) + b2), axis=0)\n",
    "    labels = np.argmax(Y_test, axis=0)\n",
    "    misclassifications.append(np.where(np.not_equal(predictions, labels))[0].shape[0] / len(predictions))\n",
    "\n",
    "    if i % 100 == 0:\n",
    "        print(i, loss)"
   ]
  },
  {
   "cell_type": "code",
   "execution_count": 28,
   "metadata": {},
   "outputs": [
    {
     "data": {
      "image/png": "[encoded data removed]",
      "text/plain": [
       "<Figure size 432x288 with 1 Axes>"
      ]
     },
     "metadata": {
      "needs_background": "light"
     },
     "output_type": "display_data"
    }
   ],
   "source": [
    "plt.plot(misclassifications)\n",
    "plt.title(\"Misclassification Rate on the test data\")\n",
    "plt.xlabel(\"Epochs\")\n",
    "plt.ylabel(\"Error\")\n",
    "plt.savefig(\"misclassification_rate.png\")"
   ]
  },
  {
   "cell_type": "code",
   "execution_count": null,
   "metadata": {},
   "outputs": [],
   "source": []
  }
 ],
 "metadata": {
  "kernelspec": {
   "display_name": "Python 3",
   "language": "python",
   "name": "python3"
  },
  "language_info": {
   "codemirror_mode": {
    "name": "ipython",
    "version": 3
   },
   "file_extension": ".py",
   "mimetype": "text/x-python",
   "name": "python",
   "nbconvert_exporter": "python",
   "pygments_lexer": "ipython3",
   "version": "3.7.6"
  }
 },
 "nbformat": 4,
 "nbformat_minor": 4
}
