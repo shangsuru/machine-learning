{
 "cells": [
  {
   "cell_type": "code",
   "execution_count": 2,
   "metadata": {},
   "outputs": [],
   "source": [
    "import numpy as np\n",
    "import matplotlib.pyplot as plt\n",
    "\n",
    "data = np.loadtxt(\"datasets/iris-pca.txt\")\n",
    "y = data[:,-1] - 1\n",
    "X = data[:,:-1]"
   ]
  },
  {
   "cell_type": "code",
   "execution_count": 3,
   "metadata": {},
   "outputs": [
    {
     "data": {
      "image/png": "[encoded data removed]",
      "text/plain": [
       "<Figure size 432x288 with 1 Axes>"
      ]
     },
     "metadata": {
      "needs_background": "light"
     },
     "output_type": "display_data"
    }
   ],
   "source": [
    "plt.plot(X[:50,0], X[:50,1], 'bo')\n",
    "plt.plot(X[50:,0], X[50:,1], 'yo')\n",
    "# The data is not linearly separable. We need to use kernel function and slack variables to avoid overfitting.\n",
    "plt.savefig(\"svm_initial.png\")"
   ]
  },
  {
   "cell_type": "code",
   "execution_count": 4,
   "metadata": {},
   "outputs": [
    {
     "name": "stdout",
     "output_type": "stream",
     "text": [
      "Alpha =  [[10.         10.         10.          2.32248349 10.         10.\n",
      "  10.         10.         10.         10.         10.         10.\n",
      "  10.         10.         10.         10.          1.09515383 10.\n",
      "  10.         10.         10.         10.         10.         10.\n",
      "  10.         10.         10.         10.          3.41763732 10.\n",
      "  10.         10.         10.        ]]\n",
      "w =  [[ 2.83911779 -1.62104297]]\n",
      "b =  [0.67708846]\n"
     ]
    }
   ],
   "source": [
    "from sklearn.svm import SVC\n",
    "\n",
    "clf = SVC(C=10, kernel = 'linear')\n",
    "clf.fit(X, y.flatten())\n",
    "\n",
    "print('Alpha = ', np.abs(clf.dual_coef_))\n",
    "print('w = ',clf.coef_)\n",
    "print('b = ',clf.intercept_)"
   ]
  },
  {
   "cell_type": "code",
   "execution_count": 5,
   "metadata": {},
   "outputs": [
    {
     "name": "stdout",
     "output_type": "stream",
     "text": [
      "Alpha =  [9.99999987 9.99999992 9.99999958 2.31815219 9.9999998  9.99999994\n",
      " 9.99999598 9.99999982 9.99999937 9.99999891 9.99999989 9.99999996\n",
      " 9.99999994 9.99999994 9.99999983 9.99999986 1.10242154 9.99999995\n",
      " 9.99999998 9.99999995 9.99999999 9.99999996 9.99999992 9.99999996\n",
      " 9.99999989 9.99999859 9.9999999  9.99999995 3.42055521 9.99999992\n",
      " 9.99999995 9.99999898 9.99999989]\n",
      "w=  [ 2.8415685  -1.62037132]\n",
      "b =  [0.73273441]\n"
     ]
    }
   ],
   "source": [
    "\n",
    "from cvxopt import matrix, solvers\n",
    "solvers.options['show_progress'] = False\n",
    "\n",
    "C = 10\n",
    "y = y.reshape(-1, 1)\n",
    "m = X.shape[0]\n",
    "P = matrix((y*X)@(y.T*X.T))\n",
    "q = matrix(-np.ones((m, 1)))\n",
    "G = matrix(np.vstack((-np.identity(m), np.identity(m))))\n",
    "h = matrix(np.hstack((np.zeros(m), np.full(m, C))))\n",
    "A = matrix(y.T)\n",
    "b = matrix(np.zeros(1))\n",
    "\n",
    "sol = solvers.qp(P, q, G, h, A, b)\n",
    "alphas = np.array(sol['x'])\n",
    "\n",
    "w = X.T@(alphas * y)\n",
    "b = y - np.dot(X, w)\n",
    "\n",
    "print('Alpha = ', alphas[alphas > 1e-4])\n",
    "print('w= ', w.flatten())\n",
    "print('b = ', b[0])\n"
   ]
  },
  {
   "cell_type": "code",
   "execution_count": 6,
   "metadata": {},
   "outputs": [
    {
     "data": {
      "image/png": "[encoded data removed]",
      "text/plain": [
       "<Figure size 432x288 with 1 Axes>"
      ]
     },
     "metadata": {
      "needs_background": "light"
     },
     "output_type": "display_data"
    }
   ],
   "source": [
    "# classify\n",
    "class1 = [[],[]]\n",
    "class2 = [[], []]\n",
    "\n",
    "for x in X:\n",
    "    new_x = x.reshape(-1,1)\n",
    "    prediction = (w.T@new_x + b[0]).item()\n",
    "    if prediction < 0: \n",
    "        class1[0].append(x[0])\n",
    "        class1[1].append(x[1])\n",
    "    if prediction > 0:\n",
    "        class2[0].append(x[0])\n",
    "        class2[1].append(x[1])\n",
    "        \n",
    "plt.plot(class1[0], class1[1], 'bo')\n",
    "plt.plot(class2[0], class2[1], 'yo')\n",
    "plt.savefig(\"svm_solution.png\")"
   ]
  },
  {
   "cell_type": "code",
   "execution_count": null,
   "metadata": {},
   "outputs": [],
   "source": []
  }
 ],
 "metadata": {
  "kernelspec": {
   "display_name": "Python 3",
   "language": "python",
   "name": "python3"
  },
  "language_info": {
   "codemirror_mode": {
    "name": "ipython",
    "version": 3
   },
   "file_extension": ".py",
   "mimetype": "text/x-python",
   "name": "python",
   "nbconvert_exporter": "python",
   "pygments_lexer": "ipython3",
   "version": "3.7.6"
  }
 },
 "nbformat": 4,
 "nbformat_minor": 4
}
