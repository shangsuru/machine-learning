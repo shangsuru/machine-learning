{
 "cells": [
  {
   "cell_type": "code",
   "execution_count": 13,
   "metadata": {},
   "outputs": [],
   "source": [
    "import numpy as np\n",
    "import matplotlib.pyplot as plt"
   ]
  },
  {
   "cell_type": "code",
   "execution_count": 14,
   "metadata": {},
   "outputs": [],
   "source": [
    "data = np.loadtxt('ldaData.txt')\n",
    "C1 = data[:50]\n",
    "C2 = data[50:93]\n",
    "C3 = data[93:137]"
   ]
  },
  {
   "cell_type": "code",
   "execution_count": 15,
   "metadata": {},
   "outputs": [
    {
     "data": {
      "text/plain": [
       "<matplotlib.legend.Legend at 0x10ea1a550>"
      ]
     },
     "execution_count": 15,
     "metadata": {},
     "output_type": "execute_result"
    },
    {
     "data": {
      "image/png": "[encoded data removed]",
      "text/plain": [
       "<Figure size 432x288 with 1 Axes>"
      ]
     },
     "metadata": {
      "needs_background": "light"
     },
     "output_type": "display_data"
    }
   ],
   "source": [
    "x1 = np.array([item[0] for item in C1])\n",
    "y1 = np.array([item[1] for item in C1])\n",
    "x2 = np.array([item[0] for item in C2])\n",
    "y2 = np.array([item[1] for item in C2])\n",
    "x3 = np.array([item[0] for item in C3])\n",
    "y3 = np.array([item[1] for item in C3])\n",
    "\n",
    "plt.plot(x1, y1, 'o', label = \"class 1\")\n",
    "plt.plot(x2, y2, 'o', label = \"class 2\")\n",
    "plt.plot(x3, y3, 'o', label = \"class 3\")\n",
    "plt.legend()"
   ]
  },
  {
   "cell_type": "code",
   "execution_count": 16,
   "metadata": {},
   "outputs": [],
   "source": [
    "def mean(lst):\n",
    "    sum_x, sum_y, size = 0, 0, len(lst)\n",
    "    for i in lst:\n",
    "        sum_x += i[0]\n",
    "        sum_y += i[1]\n",
    "    return np.array([sum_x/size, sum_y/size])"
   ]
  },
  {
   "cell_type": "code",
   "execution_count": 17,
   "metadata": {},
   "outputs": [],
   "source": [
    "def within_class(x, rest_x, mu, mu_rest):\n",
    "    res = np.zeros([2,2])\n",
    "    # vector multiplication\n",
    "    for i in x:\n",
    "        res += np.dot((i - mu)[:,None], (i - mu)[None, :])\n",
    "    for i in rest_x:\n",
    "        res += np.dot((i - mu_rest)[:,None], (i - mu_rest)[None, :])\n",
    "    return res"
   ]
  },
  {
   "cell_type": "code",
   "execution_count": 18,
   "metadata": {},
   "outputs": [],
   "source": [
    "def project(lst_C, lst_x):\n",
    "    res_w, res_mu = [], []\n",
    "    for i in range(3):\n",
    "        ## Calculate boundary for each cluster\n",
    "        rest_C = np.vstack((lst_C[(i+1)%3],lst_C[(i+2)%3]))\n",
    "        rest_x = np.array([item[0] for item in rest_C])\n",
    "\n",
    "        #step1 mean vectors of each cluster\n",
    "        mu, mu_rest = mean(lst_C[i]), mean(rest_C)\n",
    "\n",
    "        #step2 within-class matrices of cluster1\n",
    "        sw = within_class(lst_x[i], rest_x, mu, mu_rest)\n",
    "\n",
    "        #step3 projection w & assign new value to mu1 & mu_rest\n",
    "        w = np.linalg.inv(sw).dot(mu-mu_rest)\n",
    "        mu = np.dot(w.T, mu)\n",
    "        res_w.append(w)\n",
    "        res_mu.append(mu)\n",
    "    return res_w, res_mu"
   ]
  },
  {
   "cell_type": "code",
   "execution_count": 19,
   "metadata": {},
   "outputs": [],
   "source": [
    "def boundary(res_w, res_mu, lst_C):\n",
    "    res_mu = np.sort(res_mu)\n",
    "    bound1 = (res_mu[0]+res_mu[1])/2\n",
    "    bound2 = (res_mu[1]+res_mu[2])/2\n",
    "    cluster1, cluster2, cluster3 = [], [], []\n",
    "    print(bound1, bound2)\n",
    "    for i in range(3):\n",
    "        w = res_w[i]\n",
    "        for j in lst_C[i]:\n",
    "            project = np.dot(w.T, j)\n",
    "            if(project < bound1):\n",
    "                cluster1.append(j)\n",
    "            elif(project >= bound1 and project<= bound2):\n",
    "                cluster2.append(j)\n",
    "            else:\n",
    "                cluster3.append(j)\n",
    "    return np.array(cluster1), np.array(cluster2), np.array(cluster3)"
   ]
  },
  {
   "cell_type": "code",
   "execution_count": 30,
   "metadata": {},
   "outputs": [],
   "source": [
    "def reclass(lst_C, lst_x):\n",
    "    for i in range(10):\n",
    "        #step1: project and reclass\n",
    "        res_w, res_mu = project(lst_C, lst_x)\n",
    "        cluster1, cluster2, cluster3 = boundary(res_w, res_mu, lst_C)\n",
    "        \n",
    "        #step2: reinitiate lst_C, lst_x\n",
    "        lst_C = np.array((cluster1, cluster2, cluster3))\n",
    "        x1 = np.array([item[0] for item in cluster1])\n",
    "        x2 = np.array([item[0] for item in cluster2])\n",
    "        x3 = np.array([item[0] for item in cluster3])\n",
    "        lst_x = ((x1, x2, x3))\n",
    "    return lst_C"
   ]
  },
  {
   "cell_type": "code",
   "execution_count": 31,
   "metadata": {},
   "outputs": [
    {
     "name": "stdout",
     "output_type": "stream",
     "text": [
      "-0.06339476902888294 0.08489447960140835\n",
      "-0.06339476902888294 0.08489447960140835\n",
      "-0.06339476902888294 0.08489447960140835\n",
      "-0.06339476902888294 0.08489447960140835\n",
      "-0.06339476902888294 0.08489447960140835\n",
      "-0.06339476902888294 0.08489447960140835\n",
      "-0.06339476902888294 0.08489447960140835\n",
      "-0.06339476902888294 0.08489447960140835\n",
      "-0.06339476902888294 0.08489447960140835\n",
      "-0.06339476902888294 0.08489447960140835\n"
     ]
    },
    {
     "data": {
      "image/png": "[encoded data removed]",
      "text/plain": [
       "<Figure size 432x288 with 1 Axes>"
      ]
     },
     "metadata": {
      "needs_background": "light"
     },
     "output_type": "display_data"
    }
   ],
   "source": [
    " def plot_cluster(C1, C2, C3, x1, x2, x3):\n",
    "    lst_C = np.array((C1, C2, C3))\n",
    "    lst_x = np.array((x1, x2, x3))\n",
    "    lst = reclass(lst_C, lst_x)\n",
    "    x1 = np.array([item[0] for item in lst[0]])\n",
    "    y1 = np.array([item[1] for item in lst[0]])\n",
    "    x2 = np.array([item[0] for item in lst[1]])\n",
    "    y2 = np.array([item[1] for item in lst[1]])\n",
    "    x3 = np.array([item[0] for item in lst[2]])\n",
    "    y3 = np.array([item[1] for item in lst[2]])\n",
    "\n",
    "    plt.plot(x1, y1, 'o', label = \"class 1\")\n",
    "    plt.plot(x2, y2, 'o', label = \"class 2\")\n",
    "    plt.plot(x3, y3, 'o', label = \"class 3\")\n",
    "    plt.legend()\n",
    "plot_cluster(C1, C2, C3, x1, x2, x3)"
   ]
  },
  {
   "cell_type": "code",
   "execution_count": null,
   "metadata": {},
   "outputs": [],
   "source": []
  },
  {
   "cell_type": "code",
   "execution_count": null,
   "metadata": {},
   "outputs": [],
   "source": []
  }
 ],
 "metadata": {
  "kernelspec": {
   "display_name": "Python 3",
   "language": "python",
   "name": "python3"
  },
  "language_info": {
   "codemirror_mode": {
    "name": "ipython",
    "version": 3
   },
   "file_extension": ".py",
   "mimetype": "text/x-python",
   "name": "python",
   "nbconvert_exporter": "python",
   "pygments_lexer": "ipython3",
   "version": "3.7.6"
  }
 },
 "nbformat": 4,
 "nbformat_minor": 2
}
