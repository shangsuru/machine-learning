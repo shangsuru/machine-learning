{
 "cells": [
  {
   "cell_type": "markdown",
   "metadata": {},
   "source": [
    "Data Set Generation"
   ]
  },
  {
   "cell_type": "code",
   "execution_count": 28,
   "metadata": {},
   "outputs": [
    {
     "name": "stdout",
     "output_type": "stream",
     "text": [
      "2952\n",
      "170\n",
      "4\n",
      "Penthouse\n",
      "2015\n",
      "60596 Frankfurt\n",
      "Stresemannallee 55,\n",
      "<class 'int'>\n",
      "<class 'int'>\n"
     ]
    }
   ],
   "source": [
    "from bs4 import BeautifulSoup\n",
    "import requests\n",
    "import re\n",
    "\n",
    "page = requests.get('https://www.immobilienscout24.de/expose/112708292?referrer=RESULT_LIST_LISTING&navigationServiceUrl=%2FSuche%2Fcontroller%2FexposeNavigation%2Fnavigate.go%3FsearchUrl%3D%2FSuche%2FS-T%2FWohnung-Miete%2FHessen%2FFrankfurt-am-Main%3FenteredFrom%253Done_step_search%26exposeId%3D112708292&navigationHasNext=true&navigationBarType=RESULT_LIST&searchId=ba7efa64-d8f1-3c92-8021-a762e6db7804&searchType=district#/')\n",
    "soup = BeautifulSoup(page.text, 'html.parser')\n",
    "\n",
    "total_rent = int(re.sub('[^\\d,]+', '', soup.find(class_='is24qa-gesamtmiete').text.strip()).split(\",\")[0])\n",
    "print(total_rent)\n",
    "\n",
    "living_area = int(re.sub('[^\\d,]+', '', soup.find(class_='is24qa-wohnflaeche-ca').text.strip()).split(\",\")[0])\n",
    "print(living_space)\n",
    "\n",
    "nr_of_rooms = int(soup.find(class_='is24qa-zimmer').text.strip())\n",
    "print(nr_of_rooms)\n",
    "\n",
    "building_type = soup.find(class_='is24qa-typ').text.strip()\n",
    "print(building_type)\n",
    "\n",
    "age_of_building = soup.find(class_='is24qa-baujahr').text.strip()\n",
    "print(age_of_building)\n",
    "\n",
    "zip_and_region = soup.find(class_='zip-region-and-country').text.strip()\n",
    "print(zip_and_region)\n",
    "\n",
    "street = soup.find(class_='block font-nowrap print-hide').text.strip()\n",
    "print(street)\n",
    "\n",
    "\n",
    "\n",
    "\n",
    "\n",
    "    \n",
    "          \n",
    "    \n",
    "            \n",
    "  "
   ]
  },
  {
   "cell_type": "code",
   "execution_count": null,
   "metadata": {},
   "outputs": [],
   "source": []
  }
 ],
 "metadata": {
  "kernelspec": {
   "display_name": "Python 3",
   "language": "python",
   "name": "python3"
  },
  "language_info": {
   "codemirror_mode": {
    "name": "ipython",
    "version": 3
   },
   "file_extension": ".py",
   "mimetype": "text/x-python",
   "name": "python",
   "nbconvert_exporter": "python",
   "pygments_lexer": "ipython3",
   "version": "3.7.4"
  }
 },
 "nbformat": 4,
 "nbformat_minor": 2
}
